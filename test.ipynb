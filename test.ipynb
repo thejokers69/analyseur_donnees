{
 "cells": [
  {
   "cell_type": "code",
   "execution_count": 1,
   "metadata": {},
   "outputs": [
    {
     "name": "stdout",
     "output_type": "stream",
     "text": [
      "Fichiers générés :\n",
      "- test_files/test_data.csv\n",
      "- test_files/test_data.xlsx\n",
      "\n",
      "Vérification des fichiers générés :\n",
      "\n",
      "Contenu du fichier CSV :\n",
      "    Feature1   Feature2    Feature3   Feature4\n",
      "0  54.967142  22.923146  107.155747  57.565075\n",
      "1  48.617357  27.896773  111.215691  61.597284\n",
      "2  56.476885  28.286427  121.661025  81.209404\n",
      "3  65.230299  25.988614  121.076041  79.155554\n",
      "4  47.658466  29.193571   72.446613  69.686476\n",
      "\n",
      "Contenu du fichier Excel :\n",
      "    Feature1   Feature2    Feature3   Feature4\n",
      "0  54.967142  22.923146  107.155747  57.565075\n",
      "1  48.617357  27.896773  111.215691  61.597284\n",
      "2  56.476885  28.286427  121.661025  81.209404\n",
      "3  65.230299  25.988614  121.076041  79.155554\n",
      "4  47.658466  29.193571   72.446613  69.686476\n"
     ]
    }
   ],
   "source": [
    "# Importer les bibliothèques nécessaires\n",
    "import pandas as pd\n",
    "import numpy as np\n",
    "import os\n",
    "\n",
    "# Fonction pour générer un DataFrame fictif\n",
    "def generate_sample_dataframe():\n",
    "    np.random.seed(42)  # Pour des résultats reproductibles\n",
    "    data = {\n",
    "        \"Feature1\": np.random.normal(loc=50, scale=10, size=100),  # Données aléatoires normales\n",
    "        \"Feature2\": np.random.normal(loc=30, scale=5, size=100),\n",
    "        \"Feature3\": np.random.normal(loc=100, scale=20, size=100),\n",
    "        \"Feature4\": np.random.normal(loc=70, scale=15, size=100),\n",
    "    }\n",
    "    return pd.DataFrame(data)\n",
    "\n",
    "# Générer les données\n",
    "df = generate_sample_dataframe()\n",
    "\n",
    "# Sauvegarder les fichiers\n",
    "output_dir = \"test_files\"\n",
    "os.makedirs(output_dir, exist_ok=True)  # Créer le répertoire s'il n'existe pas\n",
    "\n",
    "csv_path = os.path.join(output_dir, \"test_data.csv\")\n",
    "excel_path = os.path.join(output_dir, \"test_data.xlsx\")\n",
    "\n",
    "df.to_csv(csv_path, index=False)\n",
    "df.to_excel(excel_path, index=False, engine=\"openpyxl\")\n",
    "\n",
    "print(f\"Fichiers générés :\\n- {csv_path}\\n- {excel_path}\")\n",
    "\n",
    "# Charger les fichiers pour vérifier\n",
    "print(\"\\nVérification des fichiers générés :\")\n",
    "csv_data = pd.read_csv(csv_path)\n",
    "excel_data = pd.read_excel(excel_path)\n",
    "\n",
    "print(\"\\nContenu du fichier CSV :\")\n",
    "print(csv_data.head())\n",
    "\n",
    "print(\"\\nContenu du fichier Excel :\")\n",
    "print(excel_data.head())"
   ]
  },
  {
   "cell_type": "code",
   "execution_count": 2,
   "metadata": {},
   "outputs": [
    {
     "name": "stdout",
     "output_type": "stream",
     "text": [
      "    Feature1   Feature2    Feature3   Feature4\n",
      "0  54.967142  22.923146  107.155747  57.565075\n",
      "1  48.617357  27.896773  111.215691  61.597284\n",
      "2  56.476885  28.286427  121.661025  81.209404\n",
      "3  65.230299  25.988614  121.076041  79.155554\n",
      "4  47.658466  29.193571   72.446613  69.686476\n"
     ]
    }
   ],
   "source": [
    "import pandas as pd\n",
    "file_path = \"test_files/test_data.csv\"\n",
    "df = pd.read_csv(file_path)\n",
    "print(df.head())"
   ]
  },
  {
   "cell_type": "code",
   "execution_count": 3,
   "metadata": {},
   "outputs": [
    {
     "name": "stdout",
     "output_type": "stream",
     "text": [
      "Corrélation entre Feature1 et Feature2 : -0.13642221217000253\n"
     ]
    }
   ],
   "source": [
    "import pandas as pd\n",
    "from scipy.stats import pearsonr\n",
    "\n",
    "# Charger le fichier\n",
    "file_path = \"test_files/test_data.csv\"\n",
    "df = pd.read_csv(file_path)\n",
    "\n",
    "# Exemple d'analyse de corrélation\n",
    "col1, col2 = \"Feature1\", \"Feature2\"\n",
    "if col1 in df.columns and col2 in df.columns:\n",
    "    correlation, _ = pearsonr(df[col1], df[col2])\n",
    "    print(f\"Corrélation entre {col1} et {col2} : {correlation}\")\n",
    "else:\n",
    "    print(f\"Colonnes {col1} ou {col2} non trouvées.\")"
   ]
  },
  {
   "cell_type": "code",
   "execution_count": 4,
   "metadata": {},
   "outputs": [
    {
     "name": "stdout",
     "output_type": "stream",
     "text": [
      "Test files generated:\n",
      "- test_files/test_data.csv\n",
      "- test_files/test_data.xlsx\n"
     ]
    }
   ],
   "source": [
    "import pandas as pd\n",
    "import numpy as np\n",
    "\n",
    "# Generate sample data\n",
    "data = {\n",
    "    \"Column1\": np.random.randint(1, 100, size=50),\n",
    "    \"Column2\": np.random.uniform(10.5, 50.5, size=50),\n",
    "    \"Column3\": np.random.choice([\"A\", \"B\", \"C\", \"D\"], size=50),\n",
    "    \"Column4\": pd.date_range(\"2023-01-01\", periods=50),\n",
    "    \"Column5\": np.random.randn(50),\n",
    "}\n",
    "\n",
    "# Create a DataFrame\n",
    "df = pd.DataFrame(data)\n",
    "\n",
    "# Specify the directory for saving test files\n",
    "output_dir = \"test_files/\"\n",
    "\n",
    "# Save as CSV\n",
    "csv_file_path = output_dir + \"test_data.csv\"\n",
    "df.to_csv(csv_file_path, index=False)\n",
    "\n",
    "# Save as Excel\n",
    "excel_file_path = output_dir + \"test_data.xlsx\"\n",
    "df.to_excel(excel_file_path, index=False, engine=\"openpyxl\")\n",
    "\n",
    "# Confirmation message\n",
    "print(f\"Test files generated:\\n- {csv_file_path}\\n- {excel_file_path}\")\n"
   ]
  },
  {
   "cell_type": "code",
   "execution_count": 7,
   "metadata": {},
   "outputs": [
    {
     "name": "stdout",
     "output_type": "stream",
     "text": [
      "Les statistiques descriptives ont été enregistrées dans test_files/results.csv.\n"
     ]
    }
   ],
   "source": [
    "import pandas as pd\n",
    "import os\n",
    "\n",
    "# Chemin du fichier source et du fichier de sortie\n",
    "input_file = \"test_files/test_data.xlsx\"\n",
    "output_file = \"test_files/results.csv\"\n",
    "\n",
    "# Vérification si le fichier source existe\n",
    "if not os.path.exists(input_file):\n",
    "    raise FileNotFoundError(f\"Le fichier source {input_file} est introuvable.\")\n",
    "\n",
    "# Chargement du fichier Excel\n",
    "data = pd.read_excel(input_file)\n",
    "\n",
    "# Vérification si le DataFrame est vide\n",
    "if data.empty:\n",
    "    raise ValueError(\"Le fichier source est vide.\")\n",
    "\n",
    "# Calcul des statistiques descriptives\n",
    "stats = {\n",
    "    \"Column\": [],\n",
    "    \"Mean\": [],\n",
    "    \"Median\": [],\n",
    "    \"Mode\": [],\n",
    "    \"Variance\": [],\n",
    "    \"StdDev\": [],\n",
    "    \"Range\": []\n",
    "}\n",
    "\n",
    "for column in data.select_dtypes(include=['number']).columns:\n",
    "    stats[\"Column\"].append(column)\n",
    "    stats[\"Mean\"].append(data[column].mean())\n",
    "    stats[\"Median\"].append(data[column].median())\n",
    "    stats[\"Mode\"].append(data[column].mode().iloc[0] if not data[column].mode().empty else None)\n",
    "    stats[\"Variance\"].append(data[column].var())\n",
    "    stats[\"StdDev\"].append(data[column].std())\n",
    "    stats[\"Range\"].append(data[column].max() - data[column].min())\n",
    "\n",
    "# Création d'un DataFrame pour les statistiques\n",
    "stats_df = pd.DataFrame(stats)\n",
    "\n",
    "# Exportation des statistiques dans un fichier CSV\n",
    "stats_df.to_csv(output_file, index=False)\n",
    "\n",
    "print(f\"Les statistiques descriptives ont été enregistrées dans {output_file}.\")\n"
   ]
  },
  {
   "cell_type": "code",
   "execution_count": null,
   "metadata": {},
   "outputs": [],
   "source": []
  }
 ],
 "metadata": {
  "kernelspec": {
   "display_name": "env",
   "language": "python",
   "name": "python3"
  },
  "language_info": {
   "codemirror_mode": {
    "name": "ipython",
    "version": 3
   },
   "file_extension": ".py",
   "mimetype": "text/x-python",
   "name": "python",
   "nbconvert_exporter": "python",
   "pygments_lexer": "ipython3",
   "version": "3.13.1"
  }
 },
 "nbformat": 4,
 "nbformat_minor": 2
}
